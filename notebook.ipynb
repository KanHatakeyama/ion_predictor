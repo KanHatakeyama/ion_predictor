{
 "cells": [
  {
   "cell_type": "code",
   "execution_count": 1,
   "id": "ea9b0cd2",
   "metadata": {},
   "outputs": [],
   "source": [
    "%load_ext autoreload\n",
    "%autoreload 2\n",
    "\n",
    "import sys\n",
    "sys.path.append(\"ion_manager/ion_predictor\")\n",
    "\n"
   ]
  },
  {
   "cell_type": "code",
   "execution_count": 4,
   "id": "d6d1f945",
   "metadata": {},
   "outputs": [
    {
     "name": "stderr",
     "output_type": "stream",
     "text": [
      "Using backend: pytorch\n"
     ]
    }
   ],
   "source": [
    "from ion_manager.ion_predictor.ml import pretrain_descriptors \n",
    "from ion_manager.ion_predictor.ml.auto_trainer import auto_prepare_model\n",
    "from ion_manager.ion_predictor.ml.NeuralDescriptor import NeuralDescriptor\n",
    "import yaml\n",
    "import joblib\n",
    "\n",
    "setting_path=\"settings.yaml\"\n",
    "\n",
    "with open(setting_path) as file:\n",
    "    settings= yaml.safe_load(file)\n"
   ]
  },
  {
   "cell_type": "code",
   "execution_count": 5,
   "id": "eadddedf",
   "metadata": {},
   "outputs": [
    {
     "name": "stderr",
     "output_type": "stream",
     "text": [
      "100%|██████████| 1/1 [00:00<00:00, 13.12it/s]\n",
      "100%|██████████| 100/100 [00:25<00:00,  3.96it/s]\n"
     ]
    }
   ],
   "source": [
    "#dump pretraining descriptor data from SMILES data\n",
    "pretrain_descriptors.dump(settings)"
   ]
  },
  {
   "cell_type": "code",
   "execution_count": 12,
   "id": "4c0197c3",
   "metadata": {},
   "outputs": [
    {
     "name": "stderr",
     "output_type": "stream",
     "text": [
      "/home/user/anaconda3/envs/ion/lib/python3.7/site-packages/dgl/base.py:45: DGLWarning: Recommend creating graphs by `dgl.graph(data)` instead of `dgl.DGLGraph(data)`.\n",
      "  return warnings.warn(message, category=category, stacklevel=1)\n",
      " 10%|█         | 21/200 [00:02<00:17,  9.96it/s]"
     ]
    },
    {
     "name": "stdout",
     "output_type": "stream",
     "text": [
      "Epoch 20, loss 0.7770\n"
     ]
    },
    {
     "name": "stderr",
     "output_type": "stream",
     "text": [
      " 20%|██        | 41/200 [00:04<00:16,  9.58it/s]"
     ]
    },
    {
     "name": "stdout",
     "output_type": "stream",
     "text": [
      "Epoch 40, loss 0.6814\n"
     ]
    },
    {
     "name": "stderr",
     "output_type": "stream",
     "text": [
      " 30%|███       | 61/200 [00:06<00:14,  9.87it/s]"
     ]
    },
    {
     "name": "stdout",
     "output_type": "stream",
     "text": [
      "Epoch 60, loss 0.6184\n"
     ]
    },
    {
     "name": "stderr",
     "output_type": "stream",
     "text": [
      " 41%|████      | 82/200 [00:08<00:11, 10.04it/s]"
     ]
    },
    {
     "name": "stdout",
     "output_type": "stream",
     "text": [
      "Epoch 80, loss 0.6131\n"
     ]
    },
    {
     "name": "stderr",
     "output_type": "stream",
     "text": [
      " 51%|█████     | 102/200 [00:10<00:09,  9.89it/s]"
     ]
    },
    {
     "name": "stdout",
     "output_type": "stream",
     "text": [
      "Epoch 100, loss 0.5762\n"
     ]
    },
    {
     "name": "stderr",
     "output_type": "stream",
     "text": [
      " 60%|██████    | 121/200 [00:12<00:07, 10.17it/s]"
     ]
    },
    {
     "name": "stdout",
     "output_type": "stream",
     "text": [
      "Epoch 120, loss 0.5345\n"
     ]
    },
    {
     "name": "stderr",
     "output_type": "stream",
     "text": [
      " 71%|███████   | 142/200 [00:14<00:05, 10.01it/s]"
     ]
    },
    {
     "name": "stdout",
     "output_type": "stream",
     "text": [
      "Epoch 140, loss 0.5285\n"
     ]
    },
    {
     "name": "stderr",
     "output_type": "stream",
     "text": [
      " 81%|████████  | 162/200 [00:16<00:03, 10.09it/s]"
     ]
    },
    {
     "name": "stdout",
     "output_type": "stream",
     "text": [
      "Epoch 160, loss 0.5223\n"
     ]
    },
    {
     "name": "stderr",
     "output_type": "stream",
     "text": [
      " 91%|█████████ | 182/200 [00:18<00:01, 10.09it/s]"
     ]
    },
    {
     "name": "stdout",
     "output_type": "stream",
     "text": [
      "Epoch 180, loss 0.6294\n"
     ]
    },
    {
     "name": "stderr",
     "output_type": "stream",
     "text": [
      "100%|██████████| 200/200 [00:20<00:00,  9.94it/s]"
     ]
    },
    {
     "name": "stdout",
     "output_type": "stream",
     "text": [
      "Epoch 200, loss 0.5842\n"
     ]
    },
    {
     "name": "stderr",
     "output_type": "stream",
     "text": [
      "\n"
     ]
    },
    {
     "data": {
      "image/png": "[encoded data removed]",
      "text/plain": [
       "<Figure size 432x288 with 1 Axes>"
      ]
     },
     "metadata": {
      "needs_background": "light"
     },
     "output_type": "display_data"
    }
   ],
   "source": [
    "#train gnn model\n",
    "auto_prepare_model(settings)"
   ]
  },
  {
   "cell_type": "code",
   "execution_count": 4,
   "id": "50d3acd2",
   "metadata": {},
   "outputs": [
    {
     "name": "stderr",
     "output_type": "stream",
     "text": [
      "/home/user/anaconda3/envs/ion/lib/python3.7/site-packages/dgl/base.py:45: DGLWarning: Recommend creating graphs by `dgl.graph(data)` instead of `dgl.DGLGraph(data)`.\n",
      "  return warnings.warn(message, category=category, stacklevel=1)\n",
      "/data1/python/git/ion_predictor/ion_predictor/composite/DataUtility.py:115: FutureWarning: In a future version of pandas all arguments of DataFrame.drop except for the argument 'labels' will be keyword-only\n",
      "  return df1.join(df.drop(explode, 1), how='left')\n"
     ]
    }
   ],
   "source": [
    "from ion_manager.ion_predictor.composite.auto_data_preparer import load_ion_excel\n",
    "parsed_df=load_ion_excel(settings)"
   ]
  },
  {
   "cell_type": "code",
   "execution_count": 5,
   "id": "13a75a14",
   "metadata": {},
   "outputs": [],
   "source": [
    "y_label=settings[\"y_label\"]"
   ]
  },
  {
   "cell_type": "code",
   "execution_count": 6,
   "id": "a9cf8557",
   "metadata": {},
   "outputs": [],
   "source": [
    "from ion_manager.ion_predictor.ml.regressor import initiate_regressor\n",
    "from ion_manager.ion_predictor.ml.dataset_utils import get_number_and_category_cols \n",
    "\n",
    "number_columns,category_columns=get_number_and_category_cols(parsed_df,y_label)\n",
    "model=initiate_regressor(number_columns,category_columns)"
   ]
  },
  {
   "cell_type": "code",
   "execution_count": 7,
   "id": "319be8a4",
   "metadata": {},
   "outputs": [],
   "source": [
    "X=parsed_df.drop([y_label,\"ID\"],axis=1)\n",
    "X=X.sort_index(axis=1, ascending=False)\n",
    "y=parsed_df[[y_label]]\n",
    "X_columns=list(X.columns)"
   ]
  },
  {
   "cell_type": "code",
   "execution_count": 8,
   "id": "314b19f1",
   "metadata": {},
   "outputs": [
    {
     "name": "stderr",
     "output_type": "stream",
     "text": [
      "/home/user/anaconda3/envs/ion/lib/python3.7/site-packages/sklearn/pipeline.py:346: DataConversionWarning: A column-vector y was passed when a 1d array was expected. Please change the shape of y to (n_samples,), for example using ravel().\n",
      "  self._final_estimator.fit(Xt, y, **fit_params_last_step)\n"
     ]
    },
    {
     "data": {
      "text/plain": [
       "['cache/regressor.bin']"
      ]
     },
     "execution_count": 8,
     "metadata": {},
     "output_type": "execute_result"
    }
   ],
   "source": [
    "model.fit(X,y)\n",
    "joblib.dump([model,X_columns],settings[\"regressor_path\"])"
   ]
  },
  {
   "cell_type": "code",
   "execution_count": 9,
   "id": "f0787601",
   "metadata": {},
   "outputs": [
    {
     "name": "stderr",
     "output_type": "stream",
     "text": [
      "/home/user/anaconda3/envs/ion/lib/python3.7/site-packages/dgl/base.py:45: DGLWarning: Recommend creating graphs by `dgl.graph(data)` instead of `dgl.DGLGraph(data)`.\n",
      "  return warnings.warn(message, category=category, stacklevel=1)\n",
      "/data1/python/git/ion_predictor/ion_predictor/composite/DataUtility.py:115: FutureWarning: In a future version of pandas all arguments of DataFrame.drop except for the argument 'labels' will be keyword-only\n",
      "  return df1.join(df.drop(explode, 1), how='left')\n"
     ]
    }
   ],
   "source": [
    "import numpy as np\n",
    "test_df=load_ion_excel(settings,composite_sheet_name=\"DatabaseForTest\")\n",
    "test_X=test_df.drop([y_label,\"ID\"],axis=1)\n",
    "test_y=test_df[[y_label]]\n",
    "\n",
    "lacking_columns=set(X_columns)-set(test_X.columns)\n",
    "for c in lacking_columns:\n",
    "    test_X[c]=np.nan\n",
    "test_X=test_X.sort_index(axis=1, ascending=False)"
   ]
  },
  {
   "cell_type": "code",
   "execution_count": 10,
   "id": "04ce8803",
   "metadata": {},
   "outputs": [],
   "source": [
    "pred_y=model.predict(test_X)"
   ]
  },
  {
   "cell_type": "code",
   "execution_count": 11,
   "id": "7ac5e33f",
   "metadata": {},
   "outputs": [
    {
     "name": "stderr",
     "output_type": "stream",
     "text": [
      "/home/user/anaconda3/envs/ion/lib/python3.7/site-packages/sklearn/pipeline.py:346: DataConversionWarning: A column-vector y was passed when a 1d array was expected. Please change the shape of y to (n_samples,), for example using ravel().\n",
      "  self._final_estimator.fit(Xt, y, **fit_params_last_step)\n"
     ]
    },
    {
     "data": {
      "text/plain": [
       "Text(-10, -1, 'MAE: 1.14')"
      ]
     },
     "execution_count": 11,
     "metadata": {},
     "output_type": "execute_result"
    },
    {
     "data": {
      "image/png": "[encoded data removed]",
      "text/plain": [
       "<Figure size 432x288 with 1 Axes>"
      ]
     },
     "metadata": {
      "needs_background": "light"
     },
     "output_type": "display_data"
    }
   ],
   "source": [
    "import matplotlib.pyplot as plt\n",
    "from sklearn.metrics import mean_absolute_error,r2_score\n",
    "\n",
    "\n",
    "ax=plt\n",
    "\n",
    "model.fit(X,y)\n",
    "pred_train_y=model.predict(X)\n",
    "pred_test_y=model.predict(test_X)\n",
    "\n",
    "ax.scatter(y,pred_train_y,s=2)\n",
    "ax.scatter(test_y,pred_test_y,s=10)\n",
    "plt.xlim(-14,0)\n",
    "plt.ylim(-14,0)\n",
    "ax.plot((-14,0),(-14,0),c=\"black\",linewidth=1)\n",
    "\n",
    "test_mae=mean_absolute_error(test_y,pred_test_y)\n",
    "ax.text(-10,-1,f\"MAE: {test_mae:.2f}\")"
   ]
  },
  {
   "cell_type": "code",
   "execution_count": null,
   "id": "c1749598",
   "metadata": {},
   "outputs": [],
   "source": []
  }
 ],
 "metadata": {
  "interpreter": {
   "hash": "b611c5573b65b3622b7accb9c1f40b97765ff0445b89d16be92b11ca75db40a7"
  },
  "kernelspec": {
   "display_name": "Environment (conda_mi)",
   "language": "python",
   "name": "python3"
  },
  "language_info": {
   "codemirror_mode": {
    "name": "ipython",
    "version": 3
   },
   "file_extension": ".py",
   "mimetype": "text/x-python",
   "name": "python",
   "nbconvert_exporter": "python",
   "pygments_lexer": "ipython3",
   "version": "3.7.9"
  }
 },
 "nbformat": 4,
 "nbformat_minor": 5
}
