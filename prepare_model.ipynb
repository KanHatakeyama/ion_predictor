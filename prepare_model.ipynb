{
 "cells": [
  {
   "cell_type": "markdown",
   "id": "353237c4",
   "metadata": {},
   "source": [
    "# Prepare regression models\n",
    "- You can create a new regression model with your original database\n",
    "- Algorithms are basically based on the following paper\n",
    "    - https://pubs.acs.org/doi/10.1021/jacs.9b11442"
   ]
  },
  {
   "cell_type": "markdown",
   "id": "c0a02b92",
   "metadata": {},
   "source": [
    "# Load settings\n",
    "- Most global settings are set in \"settings.yaml\"\n",
    "    - TODO: Some codes do not refer \"setting_path\" in the notebook\n",
    "      - path is given (hard-coded) as \"setting.yaml\" in some modules"
   ]
  },
  {
   "cell_type": "code",
   "execution_count": 2,
   "id": "ea9b0cd2",
   "metadata": {},
   "outputs": [],
   "source": [
    "import joblib\n",
    "import yaml\n",
    "import sys\n",
    "%load_ext autoreload\n",
    "%autoreload 2\n",
    "\n",
    "sys.path.append(\"ion_manager/ion_predictor\")\n",
    "from ion_manager.ion_predictor.ml.auto_trainer import auto_prepare_model\n",
    "from ion_manager.ion_predictor.ml import pretrain_descriptors\n",
    "\n",
    "\n",
    "# load global settings\n",
    "setting_path = \"settings.yaml\"\n",
    "with open(setting_path) as file:\n",
    "    settings = yaml.safe_load(file)\n"
   ]
  },
  {
   "cell_type": "markdown",
   "id": "103efa08",
   "metadata": {},
   "source": [
    "# Train GNN\n",
    "- You don't always have to run these codes"
   ]
  },
  {
   "cell_type": "markdown",
   "id": "d9da2535",
   "metadata": {},
   "source": [
    "# Dump pretraining descriptor data from SMILES data\n",
    "- it takes time\n",
    "- you can tune the number of training molecules by changing \"num_learning_molecules\" in setting.yaml"
   ]
  },
  {
   "cell_type": "code",
   "execution_count": 5,
   "id": "eadddedf",
   "metadata": {},
   "outputs": [
    {
     "name": "stderr",
     "output_type": "stream",
     "text": [
      "100%|██████████| 1/1 [00:00<00:00, 13.34it/s]\n",
      "100%|██████████| 300/300 [00:55<00:00,  5.45it/s]\n"
     ]
    }
   ],
   "source": [
    "\n",
    "pretrain_descriptors.dump(settings)\n"
   ]
  },
  {
   "cell_type": "markdown",
   "id": "2a871ded",
   "metadata": {},
   "source": [
    "# Train gnn model\n",
    "- Some hyperparams can be changed at settings yaml\n",
    "- The trained neural net is saved in the cache folder\n",
    "- The code is for CPU, but you can accelerate it by GPU with code modification"
   ]
  },
  {
   "cell_type": "code",
   "execution_count": 6,
   "id": "4c0197c3",
   "metadata": {},
   "outputs": [
    {
     "name": "stderr",
     "output_type": "stream",
     "text": [
      "/home/user/anaconda3/envs/ion/lib/python3.7/site-packages/dgl/base.py:45: DGLWarning: Recommend creating graphs by `dgl.graph(data)` instead of `dgl.DGLGraph(data)`.\n",
      "  return warnings.warn(message, category=category, stacklevel=1)\n",
      " 10%|█         | 21/200 [00:02<00:19,  9.16it/s]"
     ]
    },
    {
     "name": "stdout",
     "output_type": "stream",
     "text": [
      "Epoch 20, loss 0.6768\n"
     ]
    },
    {
     "name": "stderr",
     "output_type": "stream",
     "text": [
      " 20%|██        | 41/200 [00:04<00:17,  8.98it/s]"
     ]
    },
    {
     "name": "stdout",
     "output_type": "stream",
     "text": [
      "Epoch 40, loss 0.5965\n"
     ]
    },
    {
     "name": "stderr",
     "output_type": "stream",
     "text": [
      " 30%|███       | 61/200 [00:06<00:15,  8.91it/s]"
     ]
    },
    {
     "name": "stdout",
     "output_type": "stream",
     "text": [
      "Epoch 60, loss 0.5887\n"
     ]
    },
    {
     "name": "stderr",
     "output_type": "stream",
     "text": [
      " 40%|████      | 81/200 [00:09<00:13,  8.71it/s]"
     ]
    },
    {
     "name": "stdout",
     "output_type": "stream",
     "text": [
      "Epoch 80, loss 0.5471\n"
     ]
    },
    {
     "name": "stderr",
     "output_type": "stream",
     "text": [
      " 50%|█████     | 101/200 [00:11<00:11,  8.78it/s]"
     ]
    },
    {
     "name": "stdout",
     "output_type": "stream",
     "text": [
      "Epoch 100, loss 0.5212\n"
     ]
    },
    {
     "name": "stderr",
     "output_type": "stream",
     "text": [
      " 60%|██████    | 121/200 [00:13<00:09,  8.72it/s]"
     ]
    },
    {
     "name": "stdout",
     "output_type": "stream",
     "text": [
      "Epoch 120, loss 0.4976\n"
     ]
    },
    {
     "name": "stderr",
     "output_type": "stream",
     "text": [
      " 70%|███████   | 141/200 [00:16<00:06,  8.67it/s]"
     ]
    },
    {
     "name": "stdout",
     "output_type": "stream",
     "text": [
      "Epoch 140, loss 0.4889\n"
     ]
    },
    {
     "name": "stderr",
     "output_type": "stream",
     "text": [
      " 80%|████████  | 161/200 [00:18<00:04,  8.85it/s]"
     ]
    },
    {
     "name": "stdout",
     "output_type": "stream",
     "text": [
      "Epoch 160, loss 0.4683\n"
     ]
    },
    {
     "name": "stderr",
     "output_type": "stream",
     "text": [
      " 90%|█████████ | 181/200 [00:20<00:02,  8.91it/s]"
     ]
    },
    {
     "name": "stdout",
     "output_type": "stream",
     "text": [
      "Epoch 180, loss 0.4695\n"
     ]
    },
    {
     "name": "stderr",
     "output_type": "stream",
     "text": [
      "100%|██████████| 200/200 [00:22<00:00,  8.82it/s]"
     ]
    },
    {
     "name": "stdout",
     "output_type": "stream",
     "text": [
      "Epoch 200, loss 0.4601\n"
     ]
    },
    {
     "name": "stderr",
     "output_type": "stream",
     "text": [
      "\n"
     ]
    },
    {
     "data": {
      "image/png": "[encoded data removed]",
      "text/plain": [
       "<Figure size 432x288 with 1 Axes>"
      ]
     },
     "metadata": {
      "needs_background": "light"
     },
     "output_type": "display_data"
    }
   ],
   "source": [
    "\n",
    "auto_prepare_model(settings)\n"
   ]
  },
  {
   "cell_type": "markdown",
   "id": "d1e5956a",
   "metadata": {},
   "source": [
    "# Prepare regression model\n",
    "- You should run these codes to refresh a regression model with your custom database"
   ]
  },
  {
   "cell_type": "code",
   "execution_count": 3,
   "id": "50d3acd2",
   "metadata": {},
   "outputs": [
    {
     "name": "stderr",
     "output_type": "stream",
     "text": [
      "/home/user/anaconda3/envs/ion/lib/python3.7/site-packages/dgl/base.py:45: DGLWarning: Recommend creating graphs by `dgl.graph(data)` instead of `dgl.DGLGraph(data)`.\n",
      "  return warnings.warn(message, category=category, stacklevel=1)\n",
      "/data1/python/git/ion_predictor/ion_manager/ion_predictor/composite/DataUtility.py:115: FutureWarning: In a future version of pandas all arguments of DataFrame.drop except for the argument 'labels' will be keyword-only\n",
      "  return df1.join(df.drop(explode, 1), how='left')\n"
     ]
    }
   ],
   "source": [
    "from ion_manager.ion_predictor.composite.auto_data_preparer import load_ion_excel\n",
    "import pandas as pd\n",
    "from ion_manager.ion_predictor.ml.regressor import initiate_regressor\n",
    "from ion_manager.ion_predictor.ml.dataset_utils import get_number_and_category_cols\n",
    "from ion_manager.ion_predictor.django_wrapper.auto_predictor import compensate_columns\n",
    "\n",
    "\n",
    "# load CSV data dumped by django\n",
    "\n",
    "composite_path = \"database/composite_train.csv\"\n",
    "composite_path = \"database/composite_all.csv\"       #train all: this contains data of composite_test in JACS2020\n",
    "compound_path = \"database/compounds.csv\"\n",
    "\n",
    "composite_df = pd.read_csv(composite_path)\n",
    "compound_df = pd.read_csv(compound_path)\n",
    "\n",
    "# calc neural descriptors etc\n",
    "parsed_df = load_ion_excel(\n",
    "    settings, compound_df=compound_df, composite_df=composite_df)\n"
   ]
  },
  {
   "cell_type": "code",
   "execution_count": 4,
   "id": "a9cf8557",
   "metadata": {},
   "outputs": [
    {
     "name": "stderr",
     "output_type": "stream",
     "text": [
      "/home/user/anaconda3/envs/ion/lib/python3.7/site-packages/sklearn/pipeline.py:346: DataConversionWarning: A column-vector y was passed when a 1d array was expected. Please change the shape of y to (n_samples,), for example using ravel().\n",
      "  self._final_estimator.fit(Xt, y, **fit_params_last_step)\n"
     ]
    },
    {
     "data": {
      "text/plain": [
       "['cache/regressor.bin']"
      ]
     },
     "execution_count": 4,
     "metadata": {},
     "output_type": "execute_result"
    }
   ],
   "source": [
    "# check for numeric and category caolumns\n",
    "\n",
    "y_label = settings[\"y_label\"]\n",
    "\n",
    "X = parsed_df.drop([y_label, \"ID\"], axis=1)\n",
    "X = X.sort_index(axis=1, ascending=False)\n",
    "\n",
    "y = parsed_df[[y_label]]\n",
    "\n",
    "\n",
    "# default model is a pipeline of imputers, scalers, and random forest regressor\n",
    "number_columns, category_columns = get_number_and_category_cols(\n",
    "    parsed_df, y_label)\n",
    "model = initiate_regressor(number_columns, category_columns)\n",
    "\n",
    "# fit\n",
    "model.fit(X, y)\n",
    "\n",
    "# dump model for django\n",
    "joblib.dump([model, list(X.columns)], settings[\"regressor_path\"])\n"
   ]
  },
  {
   "cell_type": "markdown",
   "id": "9ecea3d8",
   "metadata": {},
   "source": [
    "# Check prediction"
   ]
  },
  {
   "cell_type": "code",
   "execution_count": 5,
   "id": "f0787601",
   "metadata": {},
   "outputs": [
    {
     "name": "stderr",
     "output_type": "stream",
     "text": [
      "/home/user/anaconda3/envs/ion/lib/python3.7/site-packages/dgl/base.py:45: DGLWarning: Recommend creating graphs by `dgl.graph(data)` instead of `dgl.DGLGraph(data)`.\n",
      "  return warnings.warn(message, category=category, stacklevel=1)\n",
      "/data1/python/git/ion_predictor/ion_manager/ion_predictor/composite/DataUtility.py:115: FutureWarning: In a future version of pandas all arguments of DataFrame.drop except for the argument 'labels' will be keyword-only\n",
      "  return df1.join(df.drop(explode, 1), how='left')\n"
     ]
    }
   ],
   "source": [
    "import numpy as np\n",
    "composite_test_path = \"database/composite_test.csv\"\n",
    "composite_df = pd.read_csv(composite_test_path)\n",
    "\n",
    "test_df = load_ion_excel(\n",
    "    settings, compound_df=compound_df, composite_df=composite_df)\n",
    "\n",
    "\n",
    "# add some lacking columns emerged during preprocessing processes\n",
    "test_X = test_df.drop([y_label, \"ID\"], axis=1)\n",
    "test_X = compensate_columns(test_X, X.columns)\n",
    "\n",
    "test_y = test_df[[y_label]]\n"
   ]
  },
  {
   "cell_type": "code",
   "execution_count": 6,
   "id": "7ac5e33f",
   "metadata": {},
   "outputs": [
    {
     "data": {
      "text/plain": [
       "Text(-10, -1, 'MAE: 0.15')"
      ]
     },
     "execution_count": 6,
     "metadata": {},
     "output_type": "execute_result"
    },
    {
     "data": {
      "image/png": "[encoded data removed]",
      "text/plain": [
       "<Figure size 432x288 with 1 Axes>"
      ]
     },
     "metadata": {
      "needs_background": "light"
     },
     "output_type": "display_data"
    }
   ],
   "source": [
    "import matplotlib.pyplot as plt\n",
    "from sklearn.metrics import mean_absolute_error, r2_score\n",
    "\n",
    "\n",
    "ax = plt\n",
    "pred_train_y = model.predict(X)\n",
    "pred_test_y = model.predict(test_X)\n",
    "\n",
    "ax.scatter(y, pred_train_y, s=2)\n",
    "ax.scatter(test_y, pred_test_y, s=10)\n",
    "plt.xlim(-14, 0)\n",
    "plt.ylim(-14, 0)\n",
    "ax.plot((-14, 0), (-14, 0), c=\"black\", linewidth=1)\n",
    "\n",
    "test_mae = mean_absolute_error(test_y, pred_test_y)\n",
    "ax.text(-10, -1, f\"MAE: {test_mae:.2f}\")\n"
   ]
  },
  {
   "cell_type": "code",
   "execution_count": null,
   "id": "2407ad99",
   "metadata": {},
   "outputs": [],
   "source": []
  }
 ],
 "metadata": {
  "interpreter": {
   "hash": "b611c5573b65b3622b7accb9c1f40b97765ff0445b89d16be92b11ca75db40a7"
  },
  "kernelspec": {
   "display_name": "Environment (conda_mi)",
   "language": "python",
   "name": "python3"
  },
  "language_info": {
   "codemirror_mode": {
    "name": "ipython",
    "version": 3
   },
   "file_extension": ".py",
   "mimetype": "text/x-python",
   "name": "python",
   "nbconvert_exporter": "python",
   "pygments_lexer": "ipython3",
   "version": "3.7.9"
  }
 },
 "nbformat": 4,
 "nbformat_minor": 5
}
