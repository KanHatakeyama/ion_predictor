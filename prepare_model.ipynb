{
 "cells": [
  {
   "cell_type": "markdown",
   "id": "353237c4",
   "metadata": {},
   "source": [
    "# prepare regression models"
   ]
  },
  {
   "cell_type": "code",
   "execution_count": 2,
   "id": "ea9b0cd2",
   "metadata": {},
   "outputs": [
    {
     "name": "stdout",
     "output_type": "stream",
     "text": [
      "The autoreload extension is already loaded. To reload it, use:\n",
      "  %reload_ext autoreload\n"
     ]
    }
   ],
   "source": [
    "import joblib\n",
    "import yaml\n",
    "import sys\n",
    "%load_ext autoreload\n",
    "%autoreload 2\n",
    "\n",
    "sys.path.append(\"ion_manager/ion_predictor\")\n",
    "from ion_manager.ion_predictor.ml.auto_trainer import auto_prepare_model\n",
    "from ion_manager.ion_predictor.ml import pretrain_descriptors\n",
    "\n",
    "\n",
    "# load global settings\n",
    "setting_path = \"settings.yaml\"\n",
    "with open(setting_path) as file:\n",
    "    settings = yaml.safe_load(file)\n"
   ]
  },
  {
   "cell_type": "markdown",
   "id": "103efa08",
   "metadata": {},
   "source": [
    "# Train GNN"
   ]
  },
  {
   "cell_type": "code",
   "execution_count": 5,
   "id": "eadddedf",
   "metadata": {},
   "outputs": [
    {
     "name": "stderr",
     "output_type": "stream",
     "text": [
      "100%|██████████| 1/1 [00:00<00:00, 13.34it/s]\n",
      "100%|██████████| 300/300 [00:55<00:00,  5.45it/s]\n"
     ]
    }
   ],
   "source": [
    "# dump pretraining descriptor data from SMILES data\n",
    "# it takes time\n",
    "# you can tune the number of training molecules by changing \"num_learning_molecules\" in setting.yaml\n",
    "pretrain_descriptors.dump(settings)\n"
   ]
  },
  {
   "cell_type": "code",
   "execution_count": 6,
   "id": "4c0197c3",
   "metadata": {},
   "outputs": [
    {
     "name": "stderr",
     "output_type": "stream",
     "text": [
      "/home/user/anaconda3/envs/ion/lib/python3.7/site-packages/dgl/base.py:45: DGLWarning: Recommend creating graphs by `dgl.graph(data)` instead of `dgl.DGLGraph(data)`.\n",
      "  return warnings.warn(message, category=category, stacklevel=1)\n",
      " 10%|█         | 21/200 [00:02<00:19,  9.16it/s]"
     ]
    },
    {
     "name": "stdout",
     "output_type": "stream",
     "text": [
      "Epoch 20, loss 0.6768\n"
     ]
    },
    {
     "name": "stderr",
     "output_type": "stream",
     "text": [
      " 20%|██        | 41/200 [00:04<00:17,  8.98it/s]"
     ]
    },
    {
     "name": "stdout",
     "output_type": "stream",
     "text": [
      "Epoch 40, loss 0.5965\n"
     ]
    },
    {
     "name": "stderr",
     "output_type": "stream",
     "text": [
      " 30%|███       | 61/200 [00:06<00:15,  8.91it/s]"
     ]
    },
    {
     "name": "stdout",
     "output_type": "stream",
     "text": [
      "Epoch 60, loss 0.5887\n"
     ]
    },
    {
     "name": "stderr",
     "output_type": "stream",
     "text": [
      " 40%|████      | 81/200 [00:09<00:13,  8.71it/s]"
     ]
    },
    {
     "name": "stdout",
     "output_type": "stream",
     "text": [
      "Epoch 80, loss 0.5471\n"
     ]
    },
    {
     "name": "stderr",
     "output_type": "stream",
     "text": [
      " 50%|█████     | 101/200 [00:11<00:11,  8.78it/s]"
     ]
    },
    {
     "name": "stdout",
     "output_type": "stream",
     "text": [
      "Epoch 100, loss 0.5212\n"
     ]
    },
    {
     "name": "stderr",
     "output_type": "stream",
     "text": [
      " 60%|██████    | 121/200 [00:13<00:09,  8.72it/s]"
     ]
    },
    {
     "name": "stdout",
     "output_type": "stream",
     "text": [
      "Epoch 120, loss 0.4976\n"
     ]
    },
    {
     "name": "stderr",
     "output_type": "stream",
     "text": [
      " 70%|███████   | 141/200 [00:16<00:06,  8.67it/s]"
     ]
    },
    {
     "name": "stdout",
     "output_type": "stream",
     "text": [
      "Epoch 140, loss 0.4889\n"
     ]
    },
    {
     "name": "stderr",
     "output_type": "stream",
     "text": [
      " 80%|████████  | 161/200 [00:18<00:04,  8.85it/s]"
     ]
    },
    {
     "name": "stdout",
     "output_type": "stream",
     "text": [
      "Epoch 160, loss 0.4683\n"
     ]
    },
    {
     "name": "stderr",
     "output_type": "stream",
     "text": [
      " 90%|█████████ | 181/200 [00:20<00:02,  8.91it/s]"
     ]
    },
    {
     "name": "stdout",
     "output_type": "stream",
     "text": [
      "Epoch 180, loss 0.4695\n"
     ]
    },
    {
     "name": "stderr",
     "output_type": "stream",
     "text": [
      "100%|██████████| 200/200 [00:22<00:00,  8.82it/s]"
     ]
    },
    {
     "name": "stdout",
     "output_type": "stream",
     "text": [
      "Epoch 200, loss 0.4601\n"
     ]
    },
    {
     "name": "stderr",
     "output_type": "stream",
     "text": [
      "\n"
     ]
    },
    {
     "data": {
      "image/png": "[encoded data removed]",
      "text/plain": [
       "<Figure size 432x288 with 1 Axes>"
      ]
     },
     "metadata": {
      "needs_background": "light"
     },
     "output_type": "display_data"
    }
   ],
   "source": [
    "# train gnn model\n",
    "# some hyperparams are available in settings yaml\n",
    "\n",
    "# neural net is also dumped for django interface\n",
    "auto_prepare_model(settings)\n"
   ]
  },
  {
   "cell_type": "markdown",
   "id": "d1e5956a",
   "metadata": {},
   "source": [
    "# prepare regression model"
   ]
  },
  {
   "cell_type": "code",
   "execution_count": 15,
   "id": "50d3acd2",
   "metadata": {},
   "outputs": [
    {
     "name": "stderr",
     "output_type": "stream",
     "text": [
      "/home/user/anaconda3/envs/ion/lib/python3.7/site-packages/dgl/base.py:45: DGLWarning: Recommend creating graphs by `dgl.graph(data)` instead of `dgl.DGLGraph(data)`.\n",
      "  return warnings.warn(message, category=category, stacklevel=1)\n",
      "/data1/python/git/ion_predictor/ion_manager/ion_predictor/composite/DataUtility.py:115: FutureWarning: In a future version of pandas all arguments of DataFrame.drop except for the argument 'labels' will be keyword-only\n",
      "  return df1.join(df.drop(explode, 1), how='left')\n"
     ]
    }
   ],
   "source": [
    "from ion_manager.ion_predictor.composite.auto_data_preparer import load_ion_excel\n",
    "import pandas as pd\n",
    "from ion_manager.ion_predictor.ml.regressor import initiate_regressor\n",
    "from ion_manager.ion_predictor.ml.dataset_utils import get_number_and_category_cols\n",
    "from ion_manager.ion_predictor.django_wrapper.auto_predictor import compensate_columns\n",
    "\n",
    "\n",
    "# load CSV data dumped by django\n",
    "\n",
    "composite_path = \"database/composite_train.csv\"\n",
    "compound_path = \"database/compounds.csv\"\n",
    "\n",
    "composite_df = pd.read_csv(composite_path)\n",
    "compound_df = pd.read_csv(compound_path)\n",
    "\n",
    "# calc neural descriptors etc\n",
    "parsed_df = load_ion_excel(\n",
    "    settings, compound_df=compound_df, composite_df=composite_df)\n"
   ]
  },
  {
   "cell_type": "code",
   "execution_count": 9,
   "id": "a9cf8557",
   "metadata": {},
   "outputs": [
    {
     "name": "stderr",
     "output_type": "stream",
     "text": [
      "/home/user/anaconda3/envs/ion/lib/python3.7/site-packages/sklearn/pipeline.py:346: DataConversionWarning: A column-vector y was passed when a 1d array was expected. Please change the shape of y to (n_samples,), for example using ravel().\n",
      "  self._final_estimator.fit(Xt, y, **fit_params_last_step)\n"
     ]
    },
    {
     "data": {
      "text/plain": [
       "['cache/regressor.bin']"
      ]
     },
     "execution_count": 9,
     "metadata": {},
     "output_type": "execute_result"
    }
   ],
   "source": [
    "# check for numeric and category caolumns\n",
    "\n",
    "y_label = settings[\"y_label\"]\n",
    "\n",
    "X = parsed_df.drop([y_label, \"ID\"], axis=1)\n",
    "X = X.sort_index(axis=1, ascending=False)\n",
    "\n",
    "y = parsed_df[[y_label]]\n",
    "\n",
    "\n",
    "# default model is a pipeline of imputers, scalers, and random forest regressor\n",
    "number_columns, category_columns = get_number_and_category_cols(\n",
    "    parsed_df, y_label)\n",
    "model = initiate_regressor(number_columns, category_columns)\n",
    "\n",
    "# fit\n",
    "model.fit(X, y)\n",
    "\n",
    "# dump model for django\n",
    "joblib.dump([model, list(X.columns)], settings[\"regressor_path\"])\n"
   ]
  },
  {
   "cell_type": "markdown",
   "id": "9ecea3d8",
   "metadata": {},
   "source": [
    "# check prediction"
   ]
  },
  {
   "cell_type": "code",
   "execution_count": 16,
   "id": "f0787601",
   "metadata": {},
   "outputs": [
    {
     "name": "stderr",
     "output_type": "stream",
     "text": [
      "/home/user/anaconda3/envs/ion/lib/python3.7/site-packages/dgl/base.py:45: DGLWarning: Recommend creating graphs by `dgl.graph(data)` instead of `dgl.DGLGraph(data)`.\n",
      "  return warnings.warn(message, category=category, stacklevel=1)\n",
      "/data1/python/git/ion_predictor/ion_manager/ion_predictor/composite/DataUtility.py:115: FutureWarning: In a future version of pandas all arguments of DataFrame.drop except for the argument 'labels' will be keyword-only\n",
      "  return df1.join(df.drop(explode, 1), how='left')\n"
     ]
    }
   ],
   "source": [
    "import numpy as np\n",
    "composite_test_path = \"database/composite_test.csv\"\n",
    "composite_df = pd.read_csv(composite_test_path)\n",
    "\n",
    "test_df = load_ion_excel(\n",
    "    settings, compound_df=compound_df, composite_df=composite_df)\n",
    "\n",
    "\n",
    "# add some lacking columns emerged during preprocessing processes\n",
    "test_X = test_df.drop([y_label, \"ID\"], axis=1)\n",
    "test_X = compensate_columns(test_X, X.columns)\n",
    "\n",
    "test_y = test_df[[y_label]]\n"
   ]
  },
  {
   "cell_type": "code",
   "execution_count": 17,
   "id": "7ac5e33f",
   "metadata": {},
   "outputs": [
    {
     "data": {
      "text/plain": [
       "Text(-10, -1, 'MAE: 1.22')"
      ]
     },
     "execution_count": 17,
     "metadata": {},
     "output_type": "execute_result"
    },
    {
     "data": {
      "image/png": "[encoded data removed]",
      "text/plain": [
       "<Figure size 432x288 with 1 Axes>"
      ]
     },
     "metadata": {
      "needs_background": "light"
     },
     "output_type": "display_data"
    }
   ],
   "source": [
    "import matplotlib.pyplot as plt\n",
    "from sklearn.metrics import mean_absolute_error, r2_score\n",
    "\n",
    "\n",
    "ax = plt\n",
    "pred_train_y = model.predict(X)\n",
    "pred_test_y = model.predict(test_X)\n",
    "\n",
    "ax.scatter(y, pred_train_y, s=2)\n",
    "ax.scatter(test_y, pred_test_y, s=10)\n",
    "plt.xlim(-14, 0)\n",
    "plt.ylim(-14, 0)\n",
    "ax.plot((-14, 0), (-14, 0), c=\"black\", linewidth=1)\n",
    "\n",
    "test_mae = mean_absolute_error(test_y, pred_test_y)\n",
    "ax.text(-10, -1, f\"MAE: {test_mae:.2f}\")\n"
   ]
  },
  {
   "cell_type": "code",
   "execution_count": null,
   "id": "2407ad99",
   "metadata": {},
   "outputs": [],
   "source": []
  }
 ],
 "metadata": {
  "interpreter": {
   "hash": "b611c5573b65b3622b7accb9c1f40b97765ff0445b89d16be92b11ca75db40a7"
  },
  "kernelspec": {
   "display_name": "Environment (conda_mi)",
   "language": "python",
   "name": "python3"
  },
  "language_info": {
   "codemirror_mode": {
    "name": "ipython",
    "version": 3
   },
   "file_extension": ".py",
   "mimetype": "text/x-python",
   "name": "python",
   "nbconvert_exporter": "python",
   "pygments_lexer": "ipython3",
   "version": "3.7.9"
  }
 },
 "nbformat": 4,
 "nbformat_minor": 5
}
